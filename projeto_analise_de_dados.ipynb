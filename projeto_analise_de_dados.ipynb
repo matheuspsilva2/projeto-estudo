{
  "nbformat": 4,
  "nbformat_minor": 0,
  "metadata": {
    "colab": {
      "name": "projeto-analise-de-dados.ipynb",
      "provenance": [],
      "mount_file_id": "1aqH2TzArAI_qUnR3WBDBrkbTELkGkr2D",
      "authorship_tag": "ABX9TyP4fp7kfTTp+pqXhkvJUbvu",
      "include_colab_link": true
    },
    "kernelspec": {
      "name": "python3",
      "display_name": "Python 3"
    }
  },
  "cells": [
    {
      "cell_type": "markdown",
      "metadata": {
        "id": "view-in-github",
        "colab_type": "text"
      },
      "source": [
        "<a href=\"https://colab.research.google.com/github/matheuspsilva2/projeto-estudo/blob/main/projeto_analise_de_dados.ipynb\" target=\"_parent\"><img src=\"https://colab.research.google.com/assets/colab-badge.svg\" alt=\"Open In Colab\"/></a>"
      ]
    },
    {
      "cell_type": "markdown",
      "metadata": {
        "id": "SyWLSCKhLS9v"
      },
      "source": [
        "Importar base de dados"
      ]
    },
    {
      "cell_type": "code",
      "metadata": {
        "id": "swM_XUMULWBJ"
      },
      "source": [
        "import pandas as pd\r\n",
        "\r\n",
        "tabela_clientes = pd.read_csv(r\"/content/drive/MyDrive/Colab Notebooks/ClientesBanco.csv\", encoding=\"Latin1\")\r\n",
        "tabela_clientes = tabela_clientes.drop(\"CLIENTNUM\", axis=1)\r\n",
        "display(tabela_clientes)"
      ],
      "execution_count": null,
      "outputs": []
    },
    {
      "cell_type": "markdown",
      "metadata": {
        "id": "dPwGSTTnM9tv"
      },
      "source": [
        "Tratamento da base de dados"
      ]
    },
    {
      "cell_type": "code",
      "metadata": {
        "id": "vUGDA-DNM_og"
      },
      "source": [
        "tabela_clientes = tabela_clientes.dropna() # exclui as linhas com itens vazio na tabela\r\n",
        "display(tabela_clientes.info())\r\n",
        "display(tabela_clientes.describe())"
      ],
      "execution_count": null,
      "outputs": []
    },
    {
      "cell_type": "markdown",
      "metadata": {
        "id": "sqq3Al9uPUHb"
      },
      "source": [
        "Analise de dados\r\n",
        "  Motivo dos cancelamentos dos clientes"
      ]
    },
    {
      "cell_type": "code",
      "metadata": {
        "colab": {
          "base_uri": "https://localhost:8080/",
          "height": 119
        },
        "id": "bXAzBDucPVc3",
        "outputId": "18aa89bf-7990-40f6-942f-43d10d8ecc82"
      },
      "source": [
        "display(tabela_clientes[\"Categoria\"].value_counts())\r\n",
        "display(tabela_clientes[\"Categoria\"].value_counts(normalize=True))"
      ],
      "execution_count": 16,
      "outputs": [
        {
          "output_type": "display_data",
          "data": {
            "text/plain": [
              "Cliente      8499\n",
              "Cancelado    1627\n",
              "Name: Categoria, dtype: int64"
            ]
          },
          "metadata": {
            "tags": []
          }
        },
        {
          "output_type": "display_data",
          "data": {
            "text/plain": [
              "Cliente      0.839325\n",
              "Cancelado    0.160675\n",
              "Name: Categoria, dtype: float64"
            ]
          },
          "metadata": {
            "tags": []
          }
        }
      ]
    },
    {
      "cell_type": "markdown",
      "metadata": {
        "id": "x6r8dqcQRKeh"
      },
      "source": [
        "Criando graficos para analise"
      ]
    },
    {
      "cell_type": "code",
      "metadata": {
        "id": "3MGq8rXbRN4P"
      },
      "source": [
        "import plotly.express as px\r\n",
        "\r\n",
        "for coluna in tabela_clientes:\r\n",
        "  # criar figura\r\n",
        "  fig = px.histogram(tabela_clientes, x=coluna, color=\"Categoria\")\r\n",
        "  # exibir figura\r\n",
        "  fig.show()"
      ],
      "execution_count": null,
      "outputs": []
    },
    {
      "cell_type": "markdown",
      "metadata": {
        "id": "WoKdCKlCYn_H"
      },
      "source": [
        "o que conseguo perceber analisando os dados\r\n",
        "\r\n",
        "1- quase todos os cliente que cancelaram sao da categoria blue\r\n",
        "2- quanto mais cliente entra em contato comigo, maior a chance dele cancelar - plano de ação é analisar o motivo do contrato e tratar os clientes que mais entrarem em contato\r\n",
        "3- quem usa pouco o cartao, cancela o cartao\r\n",
        "  -com mais de 80 transações o cliente nao cancela mais o cartao\r\n",
        "  -clientes com menos de 60 transações sao muito critico\r\n",
        "  -a mesma coisa acontece com a quantidade de transações"
      ]
    }
  ]
}